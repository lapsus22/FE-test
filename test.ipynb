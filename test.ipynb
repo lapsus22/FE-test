{
 "cells": [
  {
   "cell_type": "code",
   "execution_count": 35,
   "metadata": {},
   "outputs": [],
   "source": [
    "import numpy as np\n",
    "import pandas as pd\n",
    "import pdfplumber as pdfp\n",
    "import locale\n",
    "from locale import atof\n"
   ]
  },
  {
   "cell_type": "code",
   "execution_count": null,
   "metadata": {},
   "outputs": [],
   "source": [
    "data = pdfp.open(\"241025 Unicredit Macro & Markets Weekly Focus - python.pdf\")\n",
    "\n",
    "table_settings={\n",
    "    \"vertical_strategy\":\"text\",\n",
    "    \"horizontal_strategy\":\"text\",\n",
    "    \"text_keep_blank_chars\":True,\n",
    "    \"text_y_tolerance\":5,\n",
    "    \"snap_y_tolerance\":5\n",
    "\n",
    "}\n",
    "\n",
    "im = data.pages[1].to_image(resolution=150)\n",
    "im.debug_tablefinder(table_settings)\n"
   ]
  },
  {
   "cell_type": "code",
   "execution_count": null,
   "metadata": {},
   "outputs": [],
   "source": [
    "pagina = data.pages[1]\n",
    "table=pagina.extract_table(table_settings)\n",
    "table[0]=[\"Name\",\"Current\",\"1M\",\"3M\",\"6M\",\"12M\",\"YTD\",\"QTD\"]\n"
   ]
  },
  {
   "cell_type": "code",
   "execution_count": null,
   "metadata": {},
   "outputs": [],
   "source": [
    "df = pd.DataFrame(table[1:],columns=table[0])\n"
   ]
  },
  {
   "cell_type": "code",
   "execution_count": null,
   "metadata": {},
   "outputs": [],
   "source": [
    "pg_2 = data.pages[2]\n",
    "im = pg_2.to_image(resolution=150)\n",
    "table_settings2={\n",
    "    \"vertical_strategy\":\"text\",\n",
    "    \"horizontal_strategy\":\"lines\",\n",
    "    \"text_keep_blank_chars\":True,\n",
    "\n",
    "}"
   ]
  },
  {
   "cell_type": "code",
   "execution_count": null,
   "metadata": {},
   "outputs": [],
   "source": [
    "table_2=pg_2.extract_table(table_settings2)\n",
    "table_2[0]=[\"Date 26 oct - 01 Nov 2024\",\"Time (CET)\",\"Country\",\"Indicator/Event\",\"Period\",\"UniCredit estimates\",\"Consensus (Bloomberg)\",\"Previous\"]\n",
    "df2 = pd.DataFrame(table_2[2:], columns=table_2[0])"
   ]
  },
  {
   "cell_type": "code",
   "execution_count": 79,
   "metadata": {},
   "outputs": [],
   "source": [
    "df2.to_csv(\"pagina3.csv\",index=False)"
   ]
  },
  {
   "cell_type": "markdown",
   "metadata": {},
   "source": [
    "Treballar la pagina 2"
   ]
  },
  {
   "cell_type": "code",
   "execution_count": 47,
   "metadata": {},
   "outputs": [],
   "source": [
    "#teball pagina 2\n",
    "new_data = df.drop([0,8,9,16,17,26,27,28,32,33])\n",
    "columns = [\"Current\",\"1M\",\"3M\",\"6M\",\"12M\",\"YTD\",\"QTD\"]\n",
    "for x in columns:\n",
    "    new_data[x]=pd.to_numeric(new_data[x],errors=\"ignore\")\n",
    "\n",
    "locale.setlocale(locale.LC_NUMERIC, '')\n",
    "new_data[\"Current\"]=new_data[\"Current\"].map(atof)\n",
    "new_data.to_csv(\"pagina2.csv\")"
   ]
  },
  {
   "cell_type": "markdown",
   "metadata": {},
   "source": [
    "All data types of pg2 properly fixed and stabilized"
   ]
  },
  {
   "cell_type": "code",
   "execution_count": 76,
   "metadata": {},
   "outputs": [],
   "source": [
    "dates12 = new_data[[\"Name\",\"12M\"]]\n",
    "top =dates12.sort_values(by=\"12M\",ascending=False)\n",
    "top3 = top[:3].reset_index()\n",
    "top3.drop(\"index\", axis=1, inplace=True)\n",
    "top3.to_csv(\"top3.csv\")\n",
    "bot = dates12.sort_values(by=\"12M\")\n",
    "bot3 = bot[:3].reset_index()\n",
    "bot3.drop(\"index\", axis=1, inplace=True)\n",
    "bot3.to_csv(\"bot3.csv\")\n"
   ]
  },
  {
   "cell_type": "code",
   "execution_count": 61,
   "metadata": {},
   "outputs": [],
   "source": [
    "# average results\n",
    "average = [\"average\",\"NaN\"]\n",
    "cols =[\"1M\",\"3M\",\"6M\",\"12M\",\"YTD\",\"QTD\"]\n",
    "for x in cols:\n",
    "    average.append(new_data[x].mean()) \n",
    "aux = pd.DataFrame([average], columns=[\"Name\",\"Current\",\"1M\",\"3M\",\"6M\",\"12M\",\"YTD\",\"QTD\"]) \n",
    "test = pd.concat([new_data,aux])\n",
    "test.to_csv(\"pagina2.csv\")"
   ]
  },
  {
   "cell_type": "markdown",
   "metadata": {},
   "source": [
    "arreglar la pagina 3"
   ]
  },
  {
   "cell_type": "code",
   "execution_count": null,
   "metadata": {},
   "outputs": [],
   "source": [
    "columns = [\"UniCredit estimates\",\"Consensus (Bloomberg)\",\"Previous\"]\n",
    "for x in columns:\n",
    "    df2[x]=pd.to_numeric(df2[x],errors=\"ignore\")\n",
    "tst2 = df2.replace(r'^\\s*$', np.nan, regex=True)\n",
    "fin = tst2.replace(r' ','', regex=True)\n",
    "fin.to_csv(\"pagina3.csv\",index=False,na_rep=\"Nan\")"
   ]
  },
  {
   "cell_type": "code",
   "execution_count": null,
   "metadata": {},
   "outputs": [],
   "source": [
    "pagina16 = data.pages[15]\n",
    "crop_A = pagina16.within_bbox((0,50, pagina16.width,310))\n",
    "cA=crop_A.to_image(resolution=150)\n",
    "# table16=pagina16.extract_table(table_settings)\n",
    "\n",
    "# test = pd.DataFrame(table16[2:], columns=table16[1])\n",
    "# test\n",
    "\n",
    "crop_B = pagina16.within_bbox((0,310, pagina16.width,460))\n",
    "cB =crop_B.to_image(resolution=150)\n",
    "\n",
    "crop_C = pagina16.within_bbox((0,470, pagina16.width,650))\n",
    "CC=crop_C.to_image(resolution=150)"
   ]
  },
  {
   "cell_type": "code",
   "execution_count": null,
   "metadata": {},
   "outputs": [],
   "source": [
    "table_settings={\n",
    "    \"vertical_strategy\":\"text\",\n",
    "    \"horizontal_strategy\":\"text\",\n",
    "    # \"text_keep_blank_chars\":True,\n",
    "    \"snap_y_tolerance\":6,\n",
    "    \"intersection_x_tolerance\":10,\n",
    "    \"explicit_vertical_lines\":[35]\n",
    "    }\n",
    "cA.reset().debug_tablefinder(table_settings)\n",
    "table16a=crop_A.extract_table(table_settings)\n",
    "nova =[]\n",
    "for x in table16a:\n",
    "    aux = [''.join(x[0:2])]\n",
    "    x =aux+x[2:]\n",
    "    nova.append(x)\n",
    "Anet = pd.DataFrame(nova[1:], columns=nova[0])\n",
    "Anet.to_csv(\"pg16A.csv\",index=False)"
   ]
  },
  {
   "cell_type": "code",
   "execution_count": null,
   "metadata": {},
   "outputs": [],
   "source": [
    "table_settings={\n",
    "    \"vertical_strategy\":\"text\",\n",
    "    \"horizontal_strategy\":\"text\",\n",
    "    \"text_keep_blank_chars\":True,\n",
    "    \"snap_x_tolerance\":6,\n",
    "    \"intersection_x_tolerance\":5,\n",
    "    \"explicit_vertical_lines\":[35]\n",
    "    }\n",
    "cB.reset().debug_tablefinder(table_settings)\n",
    "table16b=crop_B.extract_table(table_settings)\n",
    "nova =[]\n",
    "for x in table16b:\n",
    "    aux = [''.join(x[0:2])]\n",
    "    x =aux+x[2:]\n",
    "    nova.append(x)\n",
    "Bnet = pd.DataFrame(nova[1:], columns=nova[0])\n",
    "Bnet = Bnet.replace(r' ','', regex=True)\n",
    "cols =[\"3Q23 \",\"4Q23 \",\"1Q24 \",\"2Q24 \",\"3Q24 \",\"4Q24 \",\"1Q25 \",\"2Q25 \",\"3Q25 \",\"4Q25 \"]\n",
    "for x in cols:\n",
    "    Bnet[x]=pd.to_numeric(Bnet[x],errors=\"ignore\") \n",
    "Bnet.to_csv(\"pg16B.csv\",index=False)"
   ]
  },
  {
   "cell_type": "code",
   "execution_count": null,
   "metadata": {},
   "outputs": [],
   "source": [
    "table_settings={\n",
    "    \"vertical_strategy\":\"text\",\n",
    "    \"horizontal_strategy\":\"text\",\n",
    "    \"text_keep_blank_chars\":True,\n",
    "    \"snap_y_tolerance\":5,\n",
    "    \"intersection_x_tolerance\":5,\n",
    "    \"explicit_vertical_lines\":[35]\n",
    "    }\n",
    "CC.reset().debug_tablefinder(table_settings)\n",
    "table16c=crop_B.extract_table(table_settings)\n",
    "nova =[]\n",
    "for x in table16c:\n",
    "    aux = [''.join(x[0:2])]\n",
    "    x =aux+x[2:]\n",
    "    nova.append(x)\n",
    "Cnet = pd.DataFrame(nova[1:], columns=nova[0])\n",
    "Cnet = Cnet.replace(r' ','', regex=True)\n",
    "cols =[\"3Q23 \",\"4Q23 \",\"1Q24 \",\"2Q24 \",\"3Q24 \",\"4Q24 \",\"1Q25 \",\"2Q25 \",\"3Q25 \",\"4Q25 \"]\n",
    "for x in cols:\n",
    "    Cnet[x]=pd.to_numeric(Cnet[x],errors=\"ignore\") \n",
    "# Cnet.to_csv(\"pg16C.csv\",index=False)\n",
    "Cnet\n"
   ]
  },
  {
   "cell_type": "code",
   "execution_count": 376,
   "metadata": {},
   "outputs": [],
   "source": [
    "pagina17 = data.pages[16]\n",
    "\n",
    "table_settings={\n",
    "    \"vertical_strategy\":\"text\",\n",
    "    \"horizontal_strategy\":\"lines\"\n",
    "    }\n",
    "\n",
    "table17 = pagina17.extract_table(table_settings)\n",
    "columnes = table17[0]\n",
    "columnes[0]=\"Paisos/factors\"\n",
    "df17 = pd.DataFrame(table17[2:],columns=columnes)\n",
    "df17.columns\n",
    "for x in columnes:\n",
    "    df17[x]=pd.to_numeric(df17[x],errors=\"ignore\")\n",
    "df17.to_csv(\"pagina17.csv\",index=False)\n"
   ]
  },
  {
   "cell_type": "code",
   "execution_count": 395,
   "metadata": {},
   "outputs": [],
   "source": [
    "pagina18 = data.pages[17]\n",
    "\n",
    "table_settings={\n",
    "    \"vertical_strategy\":\"text\",\n",
    "    \"horizontal_strategy\":\"lines\"\n",
    "    }\n",
    "tables18 = pagina18.extract_table(table_settings)\n",
    "EuR = tables18[:18]\n",
    "UsD = tables18[19:]\n",
    "df18 = pd.DataFrame(EuR[1:],columns=EuR[0])\n",
    "df18\n",
    "df18b = pd.DataFrame(UsD[1:],columns=UsD[0])\n",
    "df18b\n",
    "\n",
    "columnes = df18.columns\n",
    "for x in columnes:\n",
    "    df18[x]=pd.to_numeric(df18[x],errors=\"ignore\")\n",
    "df18.to_csv(\"pagina18a.csv\",index=False)\n",
    "columnes = df18b.columns\n",
    "for x in columnes:\n",
    "    df18b[x]=pd.to_numeric(df18b[x],errors=\"ignore\")\n",
    "df18b.to_csv(\"pagina18b.csv\",index=False)"
   ]
  },
  {
   "cell_type": "code",
   "execution_count": null,
   "metadata": {},
   "outputs": [
    {
     "ename": "",
     "evalue": "",
     "output_type": "error",
     "traceback": [
      "\u001b[1;31mThe Kernel crashed while executing code in the current cell or a previous cell. \n",
      "\u001b[1;31mPlease review the code in the cell(s) to identify a possible cause of the failure. \n",
      "\u001b[1;31mClick <a href='https://aka.ms/vscodeJupyterKernelCrash'>here</a> for more info. \n",
      "\u001b[1;31mView Jupyter <a href='command:jupyter.viewOutput'>log</a> for further details."
     ]
    }
   ],
   "source": [
    "pagina19 =data.pages[18]\n",
    "table_settings={\n",
    "    \"vertical_strategy\":\"text\",\n",
    "    \"horizontal_strategy\":\"text\",\n",
    "    \"snap_y_tolerance\":5,\n",
    "    \"intersection_x_tolerance\":5,\n",
    "    \n",
    "    }\n",
    "crop19a = pagina19.within_bbox((0,50, pagina19.width,310))\n",
    "table19a = crop19a.extract_table(table_settings)\n",
    "columns = table19a[0]\n",
    "columns[0]=\"Name\"\n",
    "df19a = pd.DataFrame(table19a[1:],columns=columns)\n",
    "for x in columns:\n",
    "    df19a[x]=pd.to_numeric(df19a[x],errors=\"ignore\")\n",
    "df19a.to_csv(\"pagina19a.csv\",index=False)"
   ]
  },
  {
   "cell_type": "code",
   "execution_count": 432,
   "metadata": {},
   "outputs": [],
   "source": [
    "table_settings={\n",
    "    \"vertical_strategy\":\"text\",\n",
    "    \"horizontal_strategy\":\"lines\",\n",
    "    \"snap_y_tolerance\":9,\n",
    "    \"intersection_x_tolerance\":5,\n",
    "    \"explicit_horizontal_lines\":[615]\n",
    "    }\n",
    "crop19b = pagina19.within_bbox((0,330, pagina19.width,620))\n",
    "\n",
    "table19b = crop19b.extract_table(table_settings)\n",
    "colmn=[\"STOXX Europe 600 Sector\",\"Portfolio weight over/underweight - (% points)\",\"Portfolio position (%)\",\"Strength of over/underweight in % of sector weight\"]\n",
    "df19b = pd.DataFrame(table19b[3:],columns=colmn)\n",
    "for x in colmn:\n",
    "    df19b[x]=pd.to_numeric(df19b[x],errors=\"ignore\")\n",
    "df19b.to_csv(\"pagina19b.csv\",index=False)\n"
   ]
  }
 ],
 "metadata": {
  "kernelspec": {
   "display_name": "Python 3",
   "language": "python",
   "name": "python3"
  },
  "language_info": {
   "codemirror_mode": {
    "name": "ipython",
    "version": 3
   },
   "file_extension": ".py",
   "mimetype": "text/x-python",
   "name": "python",
   "nbconvert_exporter": "python",
   "pygments_lexer": "ipython3",
   "version": "3.8.10"
  }
 },
 "nbformat": 4,
 "nbformat_minor": 2
}
