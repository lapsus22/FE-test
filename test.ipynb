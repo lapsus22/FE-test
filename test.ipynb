{
 "cells": [
  {
   "cell_type": "code",
   "execution_count": 35,
   "metadata": {},
   "outputs": [],
   "source": [
    "import numpy as np\n",
    "import pandas as pd\n",
    "import pdfplumber as pdfp\n",
    "import locale\n",
    "from locale import atof\n"
   ]
  },
  {
   "cell_type": "code",
   "execution_count": null,
   "metadata": {},
   "outputs": [],
   "source": [
    "data = pdfp.open(\"241025 Unicredit Macro & Markets Weekly Focus - python.pdf\")\n",
    "\n",
    "table_settings={\n",
    "    \"vertical_strategy\":\"text\",\n",
    "    \"horizontal_strategy\":\"text\",\n",
    "    \"text_keep_blank_chars\":True,\n",
    "    \"text_y_tolerance\":5,\n",
    "    \"snap_y_tolerance\":5\n",
    "\n",
    "}\n",
    "\n",
    "im = data.pages[1].to_image(resolution=150)\n",
    "im.debug_tablefinder(table_settings)\n"
   ]
  },
  {
   "cell_type": "code",
   "execution_count": null,
   "metadata": {},
   "outputs": [],
   "source": [
    "pagina = data.pages[1]\n",
    "table=pagina.extract_table(table_settings)\n",
    "table[0]=[\"Name\",\"Current\",\"1M\",\"3M\",\"6M\",\"12M\",\"YTD\",\"QTD\"]\n"
   ]
  },
  {
   "cell_type": "code",
   "execution_count": null,
   "metadata": {},
   "outputs": [],
   "source": [
    "df = pd.DataFrame(table[1:],columns=table[0])\n"
   ]
  },
  {
   "cell_type": "code",
   "execution_count": null,
   "metadata": {},
   "outputs": [],
   "source": [
    "pg_2 = data.pages[2]\n",
    "im = pg_2.to_image(resolution=150)\n",
    "table_settings2={\n",
    "    \"vertical_strategy\":\"text\",\n",
    "    \"horizontal_strategy\":\"lines\",\n",
    "    \"text_keep_blank_chars\":True,\n",
    "\n",
    "}"
   ]
  },
  {
   "cell_type": "code",
   "execution_count": null,
   "metadata": {},
   "outputs": [],
   "source": [
    "table_2=pg_2.extract_table(table_settings2)\n",
    "table_2[0]=[\"Date 26 oct - 01 Nov 2024\",\"Time (CET)\",\"Country\",\"Indicator/Event\",\"Period\",\"UniCredit estimates\",\"Consensus (Bloomberg)\",\"Previous\"]\n",
    "df2 = pd.DataFrame(table_2[2:], columns=table_2[0])"
   ]
  },
  {
   "cell_type": "code",
   "execution_count": 79,
   "metadata": {},
   "outputs": [],
   "source": [
    "df2.to_csv(\"pagina3.csv\",index=False)"
   ]
  },
  {
   "cell_type": "markdown",
   "metadata": {},
   "source": [
    "Treballar la pagina 2"
   ]
  },
  {
   "cell_type": "code",
   "execution_count": 47,
   "metadata": {},
   "outputs": [],
   "source": [
    "#teball pagina 2\n",
    "new_data = df.drop([0,8,9,16,17,26,27,28,32,33])\n",
    "columns = [\"Current\",\"1M\",\"3M\",\"6M\",\"12M\",\"YTD\",\"QTD\"]\n",
    "for x in columns:\n",
    "    new_data[x]=pd.to_numeric(new_data[x],errors=\"ignore\")\n",
    "\n",
    "locale.setlocale(locale.LC_NUMERIC, '')\n",
    "new_data[\"Current\"]=new_data[\"Current\"].map(atof)\n",
    "new_data.to_csv(\"pagina2.csv\")"
   ]
  },
  {
   "cell_type": "markdown",
   "metadata": {},
   "source": [
    "All data types of pg2 properly fixed and stabilized"
   ]
  },
  {
   "cell_type": "code",
   "execution_count": 76,
   "metadata": {},
   "outputs": [],
   "source": [
    "dates12 = new_data[[\"Name\",\"12M\"]]\n",
    "top =dates12.sort_values(by=\"12M\",ascending=False)\n",
    "top3 = top[:3].reset_index()\n",
    "top3.drop(\"index\", axis=1, inplace=True)\n",
    "top3.to_csv(\"top3.csv\")\n",
    "bot = dates12.sort_values(by=\"12M\")\n",
    "bot3 = bot[:3].reset_index()\n",
    "bot3.drop(\"index\", axis=1, inplace=True)\n",
    "bot3.to_csv(\"bot3.csv\")\n"
   ]
  },
  {
   "cell_type": "code",
   "execution_count": 61,
   "metadata": {},
   "outputs": [],
   "source": [
    "# average results\n",
    "average = [\"average\",\"NaN\"]\n",
    "cols =[\"1M\",\"3M\",\"6M\",\"12M\",\"YTD\",\"QTD\"]\n",
    "for x in cols:\n",
    "    average.append(new_data[x].mean()) \n",
    "aux = pd.DataFrame([average], columns=[\"Name\",\"Current\",\"1M\",\"3M\",\"6M\",\"12M\",\"YTD\",\"QTD\"]) \n",
    "test = pd.concat([new_data,aux])\n",
    "test.to_csv(\"pagina2.csv\")"
   ]
  },
  {
   "cell_type": "markdown",
   "metadata": {},
   "source": [
    "arreglar la pagina 3"
   ]
  },
  {
   "cell_type": "code",
   "execution_count": 98,
   "metadata": {},
   "outputs": [],
   "source": [
    "columns = [\"UniCredit estimates\",\"Consensus (Bloomberg)\",\"Previous\"]\n",
    "for x in columns:\n",
    "    df2[x]=pd.to_numeric(df2[x],errors=\"ignore\")\n",
    "tst2 = df2.replace(r'^\\s*$', np.nan, regex=True)\n",
    "fin = tst2.replace(r'\\n','', regex=True)\n",
    "fin.to_csv(\"pagina3.csv\",index=False,na_rep=\"Nan\")"
   ]
  }
 ],
 "metadata": {
  "kernelspec": {
   "display_name": "Python 3",
   "language": "python",
   "name": "python3"
  },
  "language_info": {
   "codemirror_mode": {
    "name": "ipython",
    "version": 3
   },
   "file_extension": ".py",
   "mimetype": "text/x-python",
   "name": "python",
   "nbconvert_exporter": "python",
   "pygments_lexer": "ipython3",
   "version": "3.8.10"
  }
 },
 "nbformat": 4,
 "nbformat_minor": 2
}
