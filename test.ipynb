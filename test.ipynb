{
 "cells": [
  {
   "cell_type": "code",
   "execution_count": 166,
   "metadata": {},
   "outputs": [],
   "source": [
    "import numpy as np\n",
    "import pandas as pd\n",
    "import pdfplumber as pdfp\n"
   ]
  },
  {
   "cell_type": "code",
   "execution_count": null,
   "metadata": {},
   "outputs": [],
   "source": [
    "data = pdfp.open(\"241025 Unicredit Macro & Markets Weekly Focus - python.pdf\")\n",
    "\n",
    "table_settings={\n",
    "    \"vertical_strategy\":\"text\",\n",
    "    \"horizontal_strategy\":\"text\",\n",
    "    \"text_keep_blank_chars\":True,\n",
    "    \"text_y_tolerance\":5,\n",
    "    \"snap_y_tolerance\":5\n",
    "\n",
    "}\n",
    "\n",
    "im = data.pages[1].to_image(resolution=150)\n",
    "im.debug_tablefinder(table_settings)\n"
   ]
  },
  {
   "cell_type": "code",
   "execution_count": 236,
   "metadata": {},
   "outputs": [],
   "source": [
    "pagina = data.pages[1]\n",
    "table=pagina.extract_table(table_settings)\n"
   ]
  },
  {
   "cell_type": "code",
   "execution_count": null,
   "metadata": {},
   "outputs": [],
   "source": [
    "df = pd.DataFrame(table[1:],columns=table[0])\n",
    "df"
   ]
  },
  {
   "cell_type": "code",
   "execution_count": null,
   "metadata": {},
   "outputs": [],
   "source": [
    "pg_2 = data.pages[2]\n",
    "im = pg_2.to_image(resolution=150)\n",
    "table_settings2={\n",
    "    \"vertical_strategy\":\"text\",\n",
    "    \"horizontal_strategy\":\"lines\",\n",
    "    \"text_keep_blank_chars\":True,\n",
    "\n",
    "}\n",
    "im.debug_tablefinder(table_settings2)"
   ]
  },
  {
   "cell_type": "code",
   "execution_count": null,
   "metadata": {},
   "outputs": [],
   "source": [
    "table_2=pg_2.extract_table(table_settings2)\n",
    "df2 = pd.DataFrame(table_2[1:], columns=table_2[0])\n",
    "df2"
   ]
  },
  {
   "cell_type": "code",
   "execution_count": null,
   "metadata": {},
   "outputs": [],
   "source": [
    "df.to_csv(\"pagina2.csv\",index=False)\n",
    "df2.to_csv(\"pagina3.csv\",index=False)"
   ]
  }
 ],
 "metadata": {
  "kernelspec": {
   "display_name": "Python 3",
   "language": "python",
   "name": "python3"
  },
  "language_info": {
   "codemirror_mode": {
    "name": "ipython",
    "version": 3
   },
   "file_extension": ".py",
   "mimetype": "text/x-python",
   "name": "python",
   "nbconvert_exporter": "python",
   "pygments_lexer": "ipython3",
   "version": "3.8.10"
  }
 },
 "nbformat": 4,
 "nbformat_minor": 2
}
